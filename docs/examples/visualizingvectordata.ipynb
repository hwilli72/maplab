{
 "cells": [
  {
   "attachments": {},
   "cell_type": "markdown",
   "metadata": {},
   "source": [
    "[![image](https://colab.research.google.com/assets/colab-badge.svg)](https://colab.research.google.com/github/hwilli72/maplab/blob/main/docs/examples/visualizingvectordata.ipynb)"
   ]
  },
  {
   "attachments": {},
   "cell_type": "markdown",
   "metadata": {},
   "source": [
    "Shapefiles:"
   ]
  },
  {
   "cell_type": "code",
   "execution_count": 3,
   "metadata": {},
   "outputs": [],
   "source": [
    "import maplab"
   ]
  },
  {
   "cell_type": "code",
   "execution_count": null,
   "metadata": {},
   "outputs": [],
   "source": [
    "# Create a maplab instance\n",
    "m = maplab.Map(center=(30, -60), zoom=3)\n",
    "m.add_search_control()\n",
    "m.add_draw_control()\n",
    "m.add_layers_control\n",
    "m.add_fullscreen_control()\n",
    "m.add_shp(data = \"C:/Users/hdubb/Downloads/tl_2022_us_aiannh/tl_2022_us_aiannh.shp\")\n",
    "m"
   ]
  },
  {
   "cell_type": "code",
   "execution_count": 7,
   "metadata": {},
   "outputs": [
    {
     "data": {
      "application/vnd.jupyter.widget-view+json": {
       "model_id": "f6234fe4d4134607b030dc67a0bb3a0b",
       "version_major": 2,
       "version_minor": 0
      },
      "text/plain": [
       "Map(center=[30, -60], controls=(ZoomControl(options=['position', 'zoom_in_text', 'zoom_in_title', 'zoom_out_te…"
      ]
     },
     "execution_count": 7,
     "metadata": {},
     "output_type": "execute_result"
    }
   ],
   "source": [
    "m = maplab.Map(center=(30, -60), zoom=3)\n",
    "m"
   ]
  },
  {
   "cell_type": "code",
   "execution_count": 11,
   "metadata": {},
   "outputs": [
    {
     "data": {
      "application/vnd.jupyter.widget-view+json": {
       "model_id": "f6234fe4d4134607b030dc67a0bb3a0b",
       "version_major": 2,
       "version_minor": 0
      },
      "text/plain": [
       "Map(bottom=1045.0, center=[29.99300228455108, -59.94140625000001], controls=(ZoomControl(options=['position', …"
      ]
     },
     "execution_count": 11,
     "metadata": {},
     "output_type": "execute_result"
    }
   ],
   "source": [
    "m.add_basemap()\n",
    "m"
   ]
  }
 ],
 "metadata": {
  "kernelspec": {
   "display_name": "geos",
   "language": "python",
   "name": "python3"
  },
  "language_info": {
   "codemirror_mode": {
    "name": "ipython",
    "version": 3
   },
   "file_extension": ".py",
   "mimetype": "text/x-python",
   "name": "python",
   "nbconvert_exporter": "python",
   "pygments_lexer": "ipython3",
   "version": "3.9.16"
  },
  "orig_nbformat": 4
 },
 "nbformat": 4,
 "nbformat_minor": 2
}
