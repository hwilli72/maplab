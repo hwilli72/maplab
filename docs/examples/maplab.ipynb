{
 "cells": [
  {
   "attachments": {},
   "cell_type": "markdown",
   "metadata": {},
   "source": [
    "[![image](https://colab.research.google.com/assets/colab-badge.svg)](https://colab.research.google.com/github/hwilli72/maplab/blob/main/docs/examples/maplab.ipynb)"
   ]
  },
  {
   "attachments": {},
   "cell_type": "markdown",
   "metadata": {},
   "source": [
    "Map controls:"
   ]
  },
  {
   "cell_type": "code",
   "execution_count": 1,
   "metadata": {},
   "outputs": [],
   "source": [
    "import maplab"
   ]
  },
  {
   "cell_type": "code",
   "execution_count": 3,
   "metadata": {},
   "outputs": [
    {
     "data": {
      "application/vnd.jupyter.widget-view+json": {
       "model_id": "9bf4f5f9ca06474385904cadeffb4d14",
       "version_major": 2,
       "version_minor": 0
      },
      "text/plain": [
       "Map(center=[51.505, -0.09], controls=(ZoomControl(options=['position', 'zoom_in_text', 'zoom_in_title', 'zoom_…"
      ]
     },
     "execution_count": 3,
     "metadata": {},
     "output_type": "execute_result"
    }
   ],
   "source": [
    "m = maplab.Map(center=(51.505, -0.09), zoom=13)\n",
    "m.add_search_control(position='topright')\n",
    "m.add_draw_control()\n",
    "m.add_layers_control\n",
    "m.add_fullscreen_control()\n",
    "m.add_tile_layer(url=\"https://{s}.tile.openstreetmap.org/{z}/{x}/{y}.png\", name=\"OpenStreetMap\")\n",
    "m"
   ]
  },
  {
   "attachments": {},
   "cell_type": "markdown",
   "metadata": {},
   "source": [
    "Automation of the City Socioeconomic Database for Tennessee:"
   ]
  },
  {
   "cell_type": "code",
   "execution_count": null,
   "metadata": {},
   "outputs": [],
   "source": [
    "import pandas"
   ]
  },
  {
   "cell_type": "code",
   "execution_count": null,
   "metadata": {},
   "outputs": [],
   "source": [
    "import openpyxl"
   ]
  },
  {
   "cell_type": "code",
   "execution_count": null,
   "metadata": {},
   "outputs": [],
   "source": [
    "maplab.excel_to_dataframe(excel_file=\"C:/Users/hdubb/Downloads/maplab/docs/examples/CityNames.xlsx\", sheet_name=\"Sheet1\")"
   ]
  }
 ],
 "metadata": {
  "kernelspec": {
   "display_name": "geos",
   "language": "python",
   "name": "python3"
  },
  "language_info": {
   "codemirror_mode": {
    "name": "ipython",
    "version": 3
   },
   "file_extension": ".py",
   "mimetype": "text/x-python",
   "name": "python",
   "nbconvert_exporter": "python",
   "pygments_lexer": "ipython3",
   "version": "3.9.16"
  },
  "orig_nbformat": 4,
  "vscode": {
   "interpreter": {
    "hash": "156ae15e09f2d5d5d5414ea2677a2d9db8c8a951537acd58b1d61a204b6a5d50"
   }
  }
 },
 "nbformat": 4,
 "nbformat_minor": 2
}
