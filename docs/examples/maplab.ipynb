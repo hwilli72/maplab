{
 "cells": [
  {
   "cell_type": "code",
   "execution_count": 1,
   "metadata": {},
   "outputs": [
    {
     "ename": "NameError",
     "evalue": "name 'position' is not defined",
     "output_type": "error",
     "traceback": [
      "\u001b[1;31m---------------------------------------------------------------------------\u001b[0m",
      "\u001b[1;31mNameError\u001b[0m                                 Traceback (most recent call last)",
      "Cell \u001b[1;32mIn[1], line 1\u001b[0m\n\u001b[1;32m----> 1\u001b[0m \u001b[39mimport\u001b[39;00m \u001b[39mmaplab\u001b[39;00m\n",
      "File \u001b[1;32mc:\\users\\hdubb\\downloads\\maplab\\maplab\\__init__.py:7\u001b[0m\n\u001b[0;32m      4\u001b[0m __email__ \u001b[39m=\u001b[39m \u001b[39m'\u001b[39m\u001b[39mhwilli72@vols.utk.edu\u001b[39m\u001b[39m'\u001b[39m\n\u001b[0;32m      5\u001b[0m __version__ \u001b[39m=\u001b[39m \u001b[39m'\u001b[39m\u001b[39m0.2.0\u001b[39m\u001b[39m'\u001b[39m\n\u001b[1;32m----> 7\u001b[0m \u001b[39mfrom\u001b[39;00m \u001b[39m.\u001b[39;00m\u001b[39mmaplab\u001b[39;00m \u001b[39mimport\u001b[39;00m \u001b[39m*\u001b[39m\n",
      "File \u001b[1;32mc:\\users\\hdubb\\downloads\\maplab\\maplab\\maplab.py:7\u001b[0m\n\u001b[0;32m      4\u001b[0m \u001b[39mimport\u001b[39;00m \u001b[39mrandom\u001b[39;00m\n\u001b[0;32m      5\u001b[0m \u001b[39mimport\u001b[39;00m \u001b[39mipyleaflet\u001b[39;00m\n\u001b[1;32m----> 7\u001b[0m \u001b[39mclass\u001b[39;00m \u001b[39mMap\u001b[39;00m(ipyleaflet\u001b[39m.\u001b[39mMap):\n\u001b[0;32m      9\u001b[0m         \u001b[39mdef\u001b[39;00m \u001b[39m__init__\u001b[39m(\u001b[39mself\u001b[39m, center, zoom, \u001b[39m*\u001b[39m\u001b[39m*\u001b[39mkwargs) \u001b[39m-\u001b[39m\u001b[39m>\u001b[39m \u001b[39mNone\u001b[39;00m:\n\u001b[0;32m     11\u001b[0m             \u001b[39mif\u001b[39;00m \u001b[39m\"\u001b[39m\u001b[39mscroll_wheel_zoom\u001b[39m\u001b[39m\"\u001b[39m \u001b[39mnot\u001b[39;00m \u001b[39min\u001b[39;00m kwargs:\n",
      "File \u001b[1;32mc:\\users\\hdubb\\downloads\\maplab\\maplab\\maplab.py:25\u001b[0m, in \u001b[0;36mMap\u001b[1;34m()\u001b[0m\n\u001b[0;32m     21\u001b[0m     \u001b[39mif\u001b[39;00m \u001b[39m\"\u001b[39m\u001b[39murl\u001b[39m\u001b[39m\"\u001b[39m \u001b[39mnot\u001b[39;00m \u001b[39min\u001b[39;00m kwargs:\n\u001b[0;32m     22\u001b[0m         kwargs[\u001b[39m\"\u001b[39m\u001b[39murl\u001b[39m\u001b[39m\"\u001b[39m] \u001b[39m=\u001b[39m \u001b[39m'\u001b[39m\u001b[39mhttps://nominatim.openstreetmap.org/search?format=json&q=\u001b[39m\u001b[39m{s}\u001b[39;00m\u001b[39m'\u001b[39m\n\u001b[1;32m---> 25\u001b[0m search_control \u001b[39m=\u001b[39m ipyleaflet\u001b[39m.\u001b[39mSearchControl(position\u001b[39m=\u001b[39mposition, \u001b[39m*\u001b[39m\u001b[39m*\u001b[39mkwargs)\n\u001b[0;32m     26\u001b[0m \u001b[39mself\u001b[39m\u001b[39m.\u001b[39madd_control(search_control)\n\u001b[0;32m     28\u001b[0m \u001b[39mdef\u001b[39;00m \u001b[39madd_draw_control\u001b[39m(\u001b[39mself\u001b[39m, \u001b[39m*\u001b[39m\u001b[39m*\u001b[39mkwargs):\n",
      "\u001b[1;31mNameError\u001b[0m: name 'position' is not defined"
     ]
    }
   ],
   "source": [
    "import maplab"
   ]
  },
  {
   "cell_type": "code",
   "execution_count": null,
   "metadata": {},
   "outputs": [],
   "source": [
    "m = geosdemo.Map(center=[40, -100], zoom=4)\n",
    "m.add_search_control(position='topright')\n",
    "m.add_draw_control()\n",
    "m"
   ]
  },
  {
   "cell_type": "code",
   "execution_count": null,
   "metadata": {},
   "outputs": [],
   "source": [
    "m.add_search_control()"
   ]
  },
  {
   "cell_type": "code",
   "execution_count": null,
   "metadata": {},
   "outputs": [],
   "source": [
    "url = \"https://nominatim.openstreetmap.org/search?format=json&q={s}\""
   ]
  },
  {
   "cell_type": "code",
   "execution_count": null,
   "metadata": {},
   "outputs": [],
   "source": [
    "m.add_search_control(position=\"topleft\", zoom=10, url=url)"
   ]
  }
 ],
 "metadata": {
  "kernelspec": {
   "display_name": "geos",
   "language": "python",
   "name": "python3"
  },
  "language_info": {
   "codemirror_mode": {
    "name": "ipython",
    "version": 3
   },
   "file_extension": ".py",
   "mimetype": "text/x-python",
   "name": "python",
   "nbconvert_exporter": "python",
   "pygments_lexer": "ipython3",
   "version": "3.9.16"
  },
  "orig_nbformat": 4
 },
 "nbformat": 4,
 "nbformat_minor": 2
}
