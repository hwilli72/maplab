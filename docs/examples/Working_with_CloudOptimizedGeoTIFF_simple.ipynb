{
 "cells": [
  {
   "attachments": {},
   "cell_type": "markdown",
   "metadata": {},
   "source": [
    "# Working With COG\n",
    "\n",
    "[![Binder](https://mybinder.org/badge_logo.svg)](https://mybinder.org/v2/gh/developmentseed/titiler/main?filepath=docs%2Fexamples%2F%2Fnotebooks%2FWorking_with_CloudOptimizedGeoTIFF_simple.ipynb)\n",
    "\n",
    "For this demo we will use the new `DigitalGlobe OpenData` dataset https://www.digitalglobe.com/ecosystem/open-data\n",
    "\n",
    "\n",
    "#### Requirements\n",
    "- folium\n",
    "- httpx\n",
    "\n",
    "`pip install folium httpx`"
   ]
  },
  {
   "cell_type": "code",
   "execution_count": null,
   "metadata": {},
   "outputs": [],
   "source": [
    "# Uncomment this line if you need to install the dependencies\n",
    "# !pip install folium httpx"
   ]
  },
  {
   "cell_type": "code",
   "execution_count": 2,
   "metadata": {},
   "outputs": [],
   "source": [
    "import json\n",
    "\n",
    "import httpx\n",
    "\n",
    "from folium import Map, TileLayer\n",
    "\n",
    "%matplotlib inline"
   ]
  },
  {
   "cell_type": "code",
   "execution_count": 3,
   "metadata": {},
   "outputs": [],
   "source": [
    "titiler_endpoint = \"https://titiler.xyz\"  # Developmentseed Demo endpoint. Please be kind.\n",
    "url = \"https://opendata.digitalglobe.com/events/mauritius-oil-spill/post-event/2020-08-12/105001001F1B5B00/105001001F1B5B00.tif\""
   ]
  },
  {
   "cell_type": "markdown",
   "metadata": {},
   "source": [
    "## Get COG Info"
   ]
  },
  {
   "cell_type": "code",
   "execution_count": 4,
   "metadata": {},
   "outputs": [
    {
     "name": "stdout",
     "output_type": "stream",
     "text": [
      "{'bounds': [57.664053823239804, -20.55473177712791, 57.84021477996238, -20.25261582755764], 'minzoom': 10, 'maxzoom': 18, 'band_metadata': [['b1', {}], ['b2', {}], ['b3', {}]], 'band_descriptions': [['b1', ''], ['b2', ''], ['b3', '']], 'dtype': 'uint8', 'nodata_type': 'Mask', 'colorinterp': ['red', 'green', 'blue'], 'width': 38628, 'count': 3, 'driver': 'GTiff', 'overviews': [2, 4, 8, 16, 32, 64, 128], 'height': 66247}\n"
     ]
    }
   ],
   "source": [
    "# Fetch File Metadata to get min/max rescaling values (because the file is stored as float32)\n",
    "r = httpx.get(\n",
    "    f\"{titiler_endpoint}/cog/info\",\n",
    "    params = {\n",
    "        \"url\": url,\n",
    "    }\n",
    ").json()\n",
    "\n",
    "bounds = r[\"bounds\"]\n",
    "print(r)"
   ]
  },
  {
   "cell_type": "markdown",
   "metadata": {},
   "source": [
    "## Get COG Metadata"
   ]
  },
  {
   "cell_type": "code",
   "execution_count": 5,
   "metadata": {},
   "outputs": [
    {
     "name": "stdout",
     "output_type": "stream",
     "text": [
      "{\n",
      "    \"b1\": {\n",
      "        \"min\": 0.0,\n",
      "        \"max\": 255.0,\n",
      "        \"mean\": 36.94901407469342,\n",
      "        \"count\": 574080.0,\n",
      "        \"sum\": 21211690.0,\n",
      "        \"std\": 48.282133573955264,\n",
      "        \"median\": 3.0,\n",
      "        \"majority\": 1.0,\n",
      "        \"minority\": 246.0,\n",
      "        \"unique\": 256.0,\n",
      "        \"histogram\": [\n",
      "            [\n",
      "                330584.0,\n",
      "                54820.0,\n",
      "                67683.0,\n",
      "                57434.0,\n",
      "                30305.0,\n",
      "                14648.0,\n",
      "                9606.0,\n",
      "                5653.0,\n",
      "                2296.0,\n",
      "                1051.0\n",
      "            ],\n",
      "            [\n",
      "                0.0,\n",
      "                25.5,\n",
      "                51.0,\n",
      "                76.5,\n",
      "                102.0,\n",
      "                127.5,\n",
      "                153.0,\n",
      "                178.5,\n",
      "                204.0,\n",
      "                229.5,\n",
      "                255.0\n",
      "            ]\n",
      "        ],\n",
      "        \"valid_percent\": 93.75,\n",
      "        \"masked_pixels\": 38272.0,\n",
      "        \"valid_pixels\": 574080.0,\n",
      "        \"percentile_98\": 171.0,\n",
      "        \"percentile_2\": 0.0\n",
      "    },\n",
      "    \"b2\": {\n",
      "        \"min\": 0.0,\n",
      "        \"max\": 255.0,\n",
      "        \"mean\": 57.1494356187291,\n",
      "        \"count\": 574080.0,\n",
      "        \"sum\": 32808348.0,\n",
      "        \"std\": 56.300819175100656,\n",
      "        \"median\": 37.0,\n",
      "        \"majority\": 5.0,\n",
      "        \"minority\": 0.0,\n",
      "        \"unique\": 256.0,\n",
      "        \"histogram\": [\n",
      "            [\n",
      "                271018.0,\n",
      "                34938.0,\n",
      "                54030.0,\n",
      "                69429.0,\n",
      "                70260.0,\n",
      "                32107.0,\n",
      "                29375.0,\n",
      "                9697.0,\n",
      "                2001.0,\n",
      "                1225.0\n",
      "            ],\n",
      "            [\n",
      "                0.0,\n",
      "                25.5,\n",
      "                51.0,\n",
      "                76.5,\n",
      "                102.0,\n",
      "                127.5,\n",
      "                153.0,\n",
      "                178.5,\n",
      "                204.0,\n",
      "                229.5,\n",
      "                255.0\n",
      "            ]\n",
      "        ],\n",
      "        \"valid_percent\": 93.75,\n",
      "        \"masked_pixels\": 38272.0,\n",
      "        \"valid_pixels\": 574080.0,\n",
      "        \"percentile_98\": 180.0,\n",
      "        \"percentile_2\": 5.0\n",
      "    },\n",
      "    \"b3\": {\n",
      "        \"min\": 0.0,\n",
      "        \"max\": 255.0,\n",
      "        \"mean\": 51.251764562430324,\n",
      "        \"count\": 574080.0,\n",
      "        \"sum\": 29422613.0,\n",
      "        \"std\": 39.65505035854822,\n",
      "        \"median\": 36.0,\n",
      "        \"majority\": 16.0,\n",
      "        \"minority\": 252.0,\n",
      "        \"unique\": 254.0,\n",
      "        \"histogram\": [\n",
      "            [\n",
      "                203263.0,\n",
      "                150865.0,\n",
      "                104882.0,\n",
      "                42645.0,\n",
      "                30652.0,\n",
      "                25382.0,\n",
      "                12434.0,\n",
      "                2397.0,\n",
      "                1097.0,\n",
      "                463.0\n",
      "            ],\n",
      "            [\n",
      "                0.0,\n",
      "                25.5,\n",
      "                51.0,\n",
      "                76.5,\n",
      "                102.0,\n",
      "                127.5,\n",
      "                153.0,\n",
      "                178.5,\n",
      "                204.0,\n",
      "                229.5,\n",
      "                255.0\n",
      "            ]\n",
      "        ],\n",
      "        \"valid_percent\": 93.75,\n",
      "        \"masked_pixels\": 38272.0,\n",
      "        \"valid_pixels\": 574080.0,\n",
      "        \"percentile_98\": 158.0,\n",
      "        \"percentile_2\": 14.0\n",
      "    }\n",
      "}\n"
     ]
    }
   ],
   "source": [
    "# Fetch File Metadata to get min/max rescaling values (because the file is stored as float32)\n",
    "r = httpx.get(\n",
    "    f\"{titiler_endpoint}/cog/statistics\",\n",
    "    params = {\n",
    "        \"url\": url,\n",
    "    }\n",
    ").json()\n",
    "\n",
    "print(json.dumps(r, indent=4))"
   ]
  },
  {
   "cell_type": "markdown",
   "metadata": {},
   "source": [
    "### Display Tiles"
   ]
  },
  {
   "cell_type": "code",
   "execution_count": null,
   "metadata": {},
   "outputs": [],
   "source": [
    "r = httpx.get(\n",
    "    f\"{titiler_endpoint}/cog/tilejson.json\",\n",
    "    params = {\n",
    "        \"url\": url,\n",
    "    }\n",
    ").json()\n",
    "\n",
    "m = Map(\n",
    "    location=((bounds[1] + bounds[3]) / 2,(bounds[0] + bounds[2]) / 2),\n",
    "    zoom_start=13\n",
    ")\n",
    "\n",
    "aod_layer = TileLayer(\n",
    "    tiles=r[\"tiles\"][0],\n",
    "    opacity=1,\n",
    "    attr=\"DigitalGlobe OpenData\"\n",
    ")\n",
    "aod_layer.add_to(m)\n",
    "m"
   ]
  },
  {
   "cell_type": "code",
   "execution_count": 6,
   "metadata": {},
   "outputs": [],
   "source": [
    "r = httpx.get(\n",
    "    f\"{titiler_endpoint}/cog/tilejson.json\",\n",
    "    params = {\n",
    "        \"url\": url,\n",
    "    }\n",
    ").json()"
   ]
  },
  {
   "cell_type": "code",
   "execution_count": 7,
   "metadata": {},
   "outputs": [],
   "source": [
    "url = r[\"tiles\"][0]"
   ]
  },
  {
   "cell_type": "code",
   "execution_count": 8,
   "metadata": {},
   "outputs": [
    {
     "data": {
      "text/plain": [
       "'https://titiler.xyz/cog/tiles/WebMercatorQuad/{z}/{x}/{y}@1x?url=https%3A%2F%2Fopendata.digitalglobe.com%2Fevents%2Fmauritius-oil-spill%2Fpost-event%2F2020-08-12%2F105001001F1B5B00%2F105001001F1B5B00.tif'"
      ]
     },
     "execution_count": 8,
     "metadata": {},
     "output_type": "execute_result"
    }
   ],
   "source": [
    "url"
   ]
  },
  {
   "cell_type": "code",
   "execution_count": 9,
   "metadata": {},
   "outputs": [],
   "source": [
    "import maplab"
   ]
  },
  {
   "cell_type": "code",
   "execution_count": 10,
   "metadata": {},
   "outputs": [],
   "source": [
    "m = maplab.Map(center=((bounds[1] + bounds[3]) / 2,(bounds[0] + bounds[2]) / 2), zoom=13)"
   ]
  },
  {
   "cell_type": "code",
   "execution_count": 12,
   "metadata": {},
   "outputs": [
    {
     "data": {
      "application/vnd.jupyter.widget-view+json": {
       "model_id": "86a615a59a5d4f84b09680e620d591a7",
       "version_major": 2,
       "version_minor": 0
      },
      "text/plain": [
       "Map(center=[-20.403673802342773, 57.75213430160109], controls=(ZoomControl(options=['position', 'zoom_in_text'…"
      ]
     },
     "execution_count": 12,
     "metadata": {},
     "output_type": "execute_result"
    }
   ],
   "source": [
    "m.add_tile_layer(url=url, name=\"GEO tif\", opacity=1)\n",
    "m"
   ]
  },
  {
   "cell_type": "code",
   "execution_count": 13,
   "metadata": {},
   "outputs": [
    {
     "data": {
      "text/plain": [
       "[57.664053823239804, -20.55473177712791, 57.84021477996238, -20.25261582755764]"
      ]
     },
     "execution_count": 13,
     "metadata": {},
     "output_type": "execute_result"
    }
   ],
   "source": [
    "bounds"
   ]
  },
  {
   "cell_type": "code",
   "execution_count": 15,
   "metadata": {},
   "outputs": [
    {
     "data": {
      "text/plain": [
       "[[57.664053823239804, -20.55473177712791],\n",
       " [57.84021477996238, -20.25261582755764]]"
      ]
     },
     "execution_count": 15,
     "metadata": {},
     "output_type": "execute_result"
    }
   ],
   "source": [
    "bbox = [[bounds[0], bounds[1]], [bounds[2], bounds[3]]]\n",
    "bbox"
   ]
  },
  {
   "cell_type": "code",
   "execution_count": 16,
   "metadata": {},
   "outputs": [
    {
     "name": "stderr",
     "output_type": "stream",
     "text": [
      "Task exception was never retrieved\n",
      "future: <Task finished name='Task-4' coro=<Map._fit_bounds() done, defined at c:\\Users\\hdubb\\miniconda3\\envs\\geos\\lib\\site-packages\\ipyleaflet\\leaflet.py:2624> exception=TypeError('cannot unpack non-iterable NoneType object')>\n",
      "Traceback (most recent call last):\n",
      "  File \"c:\\Users\\hdubb\\miniconda3\\envs\\geos\\lib\\site-packages\\ipyleaflet\\leaflet.py\", line 2625, in _fit_bounds\n",
      "    (b_south, b_west), (b_north, b_east) = bounds\n",
      "TypeError: cannot unpack non-iterable NoneType object\n"
     ]
    }
   ],
   "source": [
    "m.fit_bounds(None)"
   ]
  },
  {
   "cell_type": "markdown",
   "metadata": {},
   "source": [
    "# Work with non-byte data"
   ]
  },
  {
   "cell_type": "code",
   "execution_count": null,
   "metadata": {},
   "outputs": [],
   "source": [
    "\n",
    "url = \"https://data.geo.admin.ch/ch.swisstopo.swissalti3d/swissalti3d_2019_2573-1085/swissalti3d_2019_2573-1085_0.5_2056_5728.tif\"\n",
    "\n",
    "# Fetch File Metadata to get min/max rescaling values (because the file is stored as float32)\n",
    "r = httpx.get(\n",
    "    f\"{titiler_endpoint}/cog/info\",\n",
    "    params = {\n",
    "        \"url\": url,\n",
    "    }\n",
    ").json()\n",
    "\n",
    "print(r)\n",
    "print(\"Data is of type:\", r[\"dtype\"])\n",
    "\n",
    "# This dataset has statistics metadata\n",
    "minv, maxv = r[\"band_metadata\"][0][1][\"STATISTICS_MINIMUM\"], r[\"band_metadata\"][0][1][\"STATISTICS_MAXIMUM\"]\n",
    "print(\"With values from \", minv, \"to \", maxv)\n",
    "\n"
   ]
  },
  {
   "cell_type": "code",
   "execution_count": null,
   "metadata": {},
   "outputs": [],
   "source": [
    "# We could get the min/max values using the statistics endpoint\n",
    "r = httpx.get(\n",
    "    f\"{titiler_endpoint}/cog/statistics\",\n",
    "    params = {\n",
    "        \"url\": url,\n",
    "    }\n",
    ").json()\n",
    "\n",
    "print(json.dumps(r[\"1\"], indent=4))"
   ]
  },
  {
   "cell_type": "markdown",
   "metadata": {},
   "source": [
    "### Display Tiles\n",
    "\n",
    "\n",
    "1. Without `rescaling` values, TiTiler will return black/grey tiles because it will rescale the data base on min/max value of the datatype."
   ]
  },
  {
   "cell_type": "code",
   "execution_count": null,
   "metadata": {},
   "outputs": [],
   "source": [
    "r = httpx.get(\n",
    "    f\"{titiler_endpoint}/cog/tilejson.json\",\n",
    "    params = {\n",
    "        \"url\": url,\n",
    "    }\n",
    ").json()\n",
    "\n",
    "bounds = r[\"bounds\"]\n",
    "m = Map(\n",
    "    location=((bounds[1] + bounds[3]) / 2,(bounds[0] + bounds[2]) / 2),\n",
    "    zoom_start=r[\"minzoom\"] + 1\n",
    ")\n",
    "\n",
    "aod_layer = TileLayer(\n",
    "    tiles=r[\"tiles\"][0],\n",
    "    opacity=1,\n",
    "    attr=\"Swisstopo\"\n",
    ")\n",
    "aod_layer.add_to(m)\n",
    "m"
   ]
  },
  {
   "cell_type": "markdown",
   "metadata": {},
   "source": [
    "2. Apply linear rescaling using Min/Max value \n",
    "\n",
    "This is needed to rescale the value to byte (0 -> 255) which can then be encoded in JPEG or PNG"
   ]
  },
  {
   "cell_type": "code",
   "execution_count": null,
   "metadata": {},
   "outputs": [],
   "source": [
    "r = httpx.get(\n",
    "    f\"{titiler_endpoint}/cog/tilejson.json\",\n",
    "    params = {\n",
    "        \"url\": url,\n",
    "        \"rescale\": f\"{minv},{maxv}\"\n",
    "    }\n",
    ").json()\n",
    "\n",
    "bounds = r[\"bounds\"]\n",
    "m = Map(\n",
    "    location=((bounds[1] + bounds[3]) / 2,(bounds[0] + bounds[2]) / 2),\n",
    "    zoom_start=r[\"minzoom\"] + 1\n",
    ")\n",
    "\n",
    "aod_layer = TileLayer(\n",
    "    tiles=r[\"tiles\"][0],\n",
    "    opacity=1,\n",
    "    attr=\"Swisstopo\"\n",
    ")\n",
    "aod_layer.add_to(m)\n",
    "m"
   ]
  },
  {
   "cell_type": "markdown",
   "metadata": {},
   "source": [
    "3. Apply ColorMap\n",
    "\n",
    "Now that the data is rescaled to byte values (0 -> 255) we can apply a colormap"
   ]
  },
  {
   "cell_type": "code",
   "execution_count": null,
   "metadata": {},
   "outputs": [],
   "source": [
    "r = httpx.get(\n",
    "    f\"{titiler_endpoint}/cog/tilejson.json\",\n",
    "    params = {\n",
    "        \"url\": url,\n",
    "        \"rescale\": f\"{minv},{maxv}\",\n",
    "        \"colormap_name\": \"terrain\"\n",
    "    }\n",
    ").json()\n",
    "\n",
    "bounds = r[\"bounds\"]\n",
    "m = Map(\n",
    "    location=((bounds[1] + bounds[3]) / 2,(bounds[0] + bounds[2]) / 2),\n",
    "    zoom_start=r[\"minzoom\"] + 1\n",
    ")\n",
    "\n",
    "aod_layer = TileLayer(\n",
    "    tiles=r[\"tiles\"][0],\n",
    "    opacity=1,\n",
    "    attr=\"Swisstopo\"\n",
    ")\n",
    "aod_layer.add_to(m)\n",
    "m"
   ]
  },
  {
   "cell_type": "markdown",
   "metadata": {},
   "source": [
    "4. Apply non-linear colormap (intervals)\n",
    "\n",
    "see https://cogeotiff.github.io/rio-tiler/colormap/#intervals-colormaps"
   ]
  },
  {
   "cell_type": "code",
   "execution_count": null,
   "metadata": {},
   "outputs": [],
   "source": [
    "import json\n",
    "\n",
    "cmap = json.dumps(\n",
    "    [\n",
    "        # ([min, max], [r, g, b, a])\n",
    "        ([0, 1500], [255,255,204, 255]),\n",
    "        ([1500, 1700], [161,218,180, 255]),\n",
    "        ([1700, 1900], [65,182,196, 255]),\n",
    "        ([1900, 2000], [44,127,184, 255]),\n",
    "        ([2000, 3000], [37,52,148, 255]),\n",
    "    ]\n",
    ")\n",
    "# https://colorbrewer2.org/#type=sequential&scheme=YlGnBu&n=5\n",
    "\n",
    "r = httpx.get(\n",
    "    f\"{titiler_endpoint}/cog/tilejson.json\",\n",
    "    params = {\n",
    "        \"url\": url,\n",
    "        \"colormap\": cmap\n",
    "    }\n",
    ").json()\n",
    "\n",
    "bounds = r[\"bounds\"]\n",
    "m = Map(\n",
    "    location=((bounds[1] + bounds[3]) / 2,(bounds[0] + bounds[2]) / 2),\n",
    "    zoom_start=r[\"minzoom\"] + 1\n",
    ")\n",
    "\n",
    "aod_layer = TileLayer(\n",
    "    tiles=r[\"tiles\"][0],\n",
    "    opacity=1,\n",
    "    attr=\"Swisstopo\"\n",
    ")\n",
    "aod_layer.add_to(m)\n",
    "m"
   ]
  },
  {
   "cell_type": "code",
   "execution_count": null,
   "metadata": {},
   "outputs": [],
   "source": []
  }
 ],
 "metadata": {
  "kernelspec": {
   "display_name": "Python 3",
   "language": "python",
   "name": "python3"
  },
  "language_info": {
   "codemirror_mode": {
    "name": "ipython",
    "version": 3
   },
   "file_extension": ".py",
   "mimetype": "text/x-python",
   "name": "python",
   "nbconvert_exporter": "python",
   "pygments_lexer": "ipython3",
   "version": "3.9.16"
  }
 },
 "nbformat": 4,
 "nbformat_minor": 4
}
