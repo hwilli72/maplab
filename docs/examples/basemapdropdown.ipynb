{
 "cells": [
  {
   "cell_type": "code",
   "execution_count": null,
   "metadata": {},
   "outputs": [],
   "source": [
    "basemap = widgets.Dropdown(\n",
    "    options=['OpenStreetMap', 'ROADMAP', 'SATELLITE','TERRAIN','TERRAIN WITH LABELS'],\n",
    "    value=None,\n",
    "    description='Basemap:',\n",
    "    style={'description_width': 'initial'},\n",
    "    layout=widgets.Layout(width='250px')\n",
    ")\n",
    "basemap\n",
    "\n",
    "basemap_ctrl = WidgetControl(widget=basemap, position='topright')\n",
    "\n",
    "def change_basemap(change):\n",
    "    if change['new']:\n",
    "        m.add_basemap(basemap.value)\n",
    "\n",
    "\n",
    "basemap.observe(change_basemap, names='value')\n",
    "\n",
    "def tool_click(b):\n",
    "    with output\n",
    "\n",
    "creating a toolbar function\n",
    "import ipywidgets as widgets\n",
    "toolbar =\n",
    "def toolbarclick\n",
    "\n",
    "\n",
    "def add_toolbar(self, position = 'topright')"
   ]
  },
  {
   "cell_type": "code",
   "execution_count": 1,
   "metadata": {},
   "outputs": [],
   "source": [
    "import maplab"
   ]
  },
  {
   "cell_type": "code",
   "execution_count": 2,
   "metadata": {},
   "outputs": [
    {
     "data": {
      "application/vnd.jupyter.widget-view+json": {
       "model_id": "2eb58f98a52f48e682d18a04ec21721e",
       "version_major": 2,
       "version_minor": 0
      },
      "text/plain": [
       "Map(center=[20, 0], controls=(ZoomControl(options=['position', 'zoom_in_text', 'zoom_in_title', 'zoom_out_text…"
      ]
     },
     "execution_count": 2,
     "metadata": {},
     "output_type": "execute_result"
    }
   ],
   "source": [
    "m = maplab.Map()\n",
    "m"
   ]
  },
  {
   "cell_type": "code",
   "execution_count": 3,
   "metadata": {},
   "outputs": [],
   "source": [
    "m.add_toolbar()"
   ]
  }
 ],
 "metadata": {
  "kernelspec": {
   "display_name": "geos",
   "language": "python",
   "name": "python3"
  },
  "language_info": {
   "codemirror_mode": {
    "name": "ipython",
    "version": 3
   },
   "file_extension": ".py",
   "mimetype": "text/x-python",
   "name": "python",
   "nbconvert_exporter": "python",
   "pygments_lexer": "ipython3",
   "version": "3.9.16"
  },
  "orig_nbformat": 4
 },
 "nbformat": 4,
 "nbformat_minor": 2
}
